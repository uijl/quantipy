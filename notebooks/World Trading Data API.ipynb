{
 "cells": [
  {
   "cell_type": "code",
   "execution_count": 1,
   "metadata": {},
   "outputs": [],
   "source": [
    "from datetime import datetime\n",
    "import pathlib\n",
    "\n",
    "import requests\n",
    "import json\n",
    "\n",
    "# API from World Trading Data\n",
    "# https://www.worldtradingdata.com/ \n",
    "\n",
    "# All available tickers\n",
    "# https://www.worldtradingdata.com/search\n",
    "\n",
    "\n",
    "\n",
    "# Current workign directory\n",
    "cwd = pathlib.Path.cwd()\n",
    "path = cwd.joinpath(\"..\", \"data\")"
   ]
  },
  {
   "cell_type": "code",
   "execution_count": 2,
   "metadata": {},
   "outputs": [],
   "source": [
    "# List sources\n",
    "data_sources = [x for x in path.iterdir() if \"sources\" not in str(x)]\n",
    "\n",
    "# Indices\n",
    "indices = []\n",
    "for source in data_sources:\n",
    "    if \"^\" in str(source):\n",
    "        start = str(source).find(\"^\")\n",
    "    else:\n",
    "        start = str(source).rfind(\"\\\\\") + 1\n",
    "    \n",
    "    stop = str(source).find(\".csv\")\n",
    "    indices.append(str(source)[start:stop])"
   ]
  },
  {
   "cell_type": "code",
   "execution_count": 3,
   "metadata": {},
   "outputs": [
    {
     "name": "stdout",
     "output_type": "stream",
     "text": [
      "{'name': 'KOSPI.KS', 'history': {'2020-03-17': {'open': '1640.84', 'close': '1672.44', 'high': '1722.97', 'low': '1637.88', 'volume': '649779'}, '2020-03-16': {'open': '1805.43', 'close': '1714.86', 'high': '1805.43', 'low': '1714.38', 'volume': '682003'}, '2020-03-13': {'open': '1722.68', 'close': '1771.44', 'high': '1809.31', 'low': '1680.60', 'volume': '1035277'}, '2020-03-12': {'open': '1887.97', 'close': '1834.33', 'high': '1897.23', 'low': '1808.56', 'volume': '850344'}}}\n",
      "\n",
      "{'name': '^AEX', 'history': {'2020-03-13': {'open': '451.76', 'close': '432.85', 'high': '466.84', 'low': '425.22', 'volume': '0'}, '2020-03-12': {'open': '460.95', 'close': '432.10', 'high': '463.54', 'low': '428.09', 'volume': '0'}}}\n",
      "\n",
      "{'name': '^DAX', 'history': {'2020-03-13': {'open': '9480.78', 'close': '9232.08', 'high': '9985.74', 'low': '9064.68', 'volume': '0'}, '2020-03-12': {'open': '9863.99', 'close': '9161.13', 'high': '9932.56', 'low': '9139.12', 'volume': '0'}}}\n",
      "\n",
      "{'name': '^DJI', 'history': {'2020-03-16': {'open': '20917.53', 'close': '20188.52', 'high': '21768.28', 'low': '20116.46', 'volume': '775906049'}, '2020-03-13': {'open': '21973.82', 'close': '23185.62', 'high': '23189.76', 'low': '21285.37', 'volume': '870084303'}, '2020-03-12': {'open': '22184.71', 'close': '21200.62', 'high': '22837.95', 'low': '21154.46', 'volume': '911774226'}}}\n",
      "\n",
      "{'name': '^GSPC', 'history': {'2020-03-16': {'open': '2508.59', 'close': '2386.13', 'high': '2562.98', 'low': '2380.94', 'volume': '7781540000'}, '2020-03-13': {'open': '2569.99', 'close': '2711.02', 'high': '2711.33', 'low': '2492.37', 'volume': '8258670000'}, '2020-03-12': {'open': '2630.86', 'close': '2480.64', 'high': '2660.95', 'low': '2478.86', 'volume': '8829380000'}}}\n",
      "\n",
      "{'name': '^HSI', 'history': {'2020-03-16': {'open': '23317.81', 'close': '23063.57', 'high': '23631.53', 'low': '22842.25', 'volume': '0'}, '2020-03-13': {'open': '22519.32', 'close': '24032.91', 'high': '24184.48', 'low': '22519.32', 'volume': '0'}, '2020-03-12': {'open': '24657.67', 'close': '24309.07', 'high': '24657.67', 'low': '24117.94', 'volume': '0'}}}\n",
      "\n",
      "{'name': '^NI225', 'history': {'2020-03-16': {'open': '17586.08', 'close': '17002.04', 'high': '17785.76', 'low': '16914.45', 'volume': '0'}, '2020-03-12': {'open': '19064.51', 'close': '18559.63', 'high': '19142.18', 'low': '18339.27', 'volume': '0'}}}\n",
      "\n",
      "{'name': '^PX1', 'history': {'2020-03-13': {'open': '4234.37', 'close': '4118.36', 'high': '4438.51', 'low': '4055.19', 'volume': '0'}, '2020-03-12': {'open': '4374.67', 'close': '4044.26', 'high': '4404.26', 'low': '4025.89', 'volume': '0'}}}\n",
      "\n",
      "{'name': '^SX5E', 'history': {'2020-03-13': {'open': '2584.36', 'close': '2586.02', 'high': '2793.27', 'low': '2537.27', 'volume': '0'}, '2020-03-12': {'open': '2883.25', 'close': '2545.23', 'high': '2883.25', 'low': '2535.89', 'volume': '0'}}}\n",
      "\n",
      "{'name': '^UKX', 'history': {'2020-03-13': {'open': '5237.48', 'close': '5366.11', 'high': '5696.48', 'low': '5237.48', 'volume': '0'}, '2020-03-12': {'open': '5876.52', 'close': '5237.48', 'high': '5876.52', 'low': '5237.48', 'volume': '0'}}}\n",
      "\n"
     ]
    }
   ],
   "source": [
    "url = \"https://api.worldtradingdata.com/api/v1/history\"\n",
    "\n",
    "for ix in indices:\n",
    "    params = {\n",
    "        \"symbol\": ix,\n",
    "        \"date_from\": \"2020-03-12\",\n",
    "        \"date_to\": str(datetime.now()),\n",
    "        \"api_token\": token,\n",
    "    }\n",
    "    response = requests.request('GET', url, params=params)\n",
    "    \n",
    "    try:\n",
    "        print(response.json())\n",
    "        print(\"\")\n",
    "    except:\n",
    "        print(ix)\n",
    "        print(\"\")"
   ]
  }
 ],
 "metadata": {
  "kernelspec": {
   "display_name": "Python 3",
   "language": "python",
   "name": "python3"
  },
  "language_info": {
   "codemirror_mode": {
    "name": "ipython",
    "version": 3
   },
   "file_extension": ".py",
   "mimetype": "text/x-python",
   "name": "python",
   "nbconvert_exporter": "python",
   "pygments_lexer": "ipython3",
   "version": "3.7.3"
  }
 },
 "nbformat": 4,
 "nbformat_minor": 4
}
